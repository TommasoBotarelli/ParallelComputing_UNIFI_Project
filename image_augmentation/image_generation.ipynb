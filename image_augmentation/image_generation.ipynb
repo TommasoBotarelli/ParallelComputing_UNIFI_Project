{
 "cells": [
  {
   "cell_type": "code",
   "execution_count": 2,
   "metadata": {},
   "outputs": [],
   "source": [
    "from PIL import Image, ImageDraw"
   ]
  },
  {
   "cell_type": "code",
   "execution_count": 3,
   "metadata": {},
   "outputs": [],
   "source": [
    "def generate_square_board(rows, cols, width, height, output_file=\"square_board.jpg\"):\n",
    "    # Calculate the size of each square\n",
    "    square_width = width // cols\n",
    "    square_height = height // rows\n",
    "\n",
    "    # Create a new image\n",
    "    image = Image.new(\"RGB\", (width, height), \"white\")\n",
    "    draw = ImageDraw.Draw(image)\n",
    "\n",
    "    # Draw the squares\n",
    "    for row in range(rows):\n",
    "        for col in range(cols):\n",
    "            if (row + col) % 2 == 0:\n",
    "                x0 = col * square_width\n",
    "                y0 = row * square_height\n",
    "                x1 = x0 + square_width\n",
    "                y1 = y0 + square_height\n",
    "                draw.rectangle([x0, y0, x1, y1], fill=\"black\")\n",
    "\n",
    "    # Save the image\n",
    "    image.save(output_file)\n",
    "    print(f\"Square board saved as {output_file}\")"
   ]
  },
  {
   "cell_type": "code",
   "execution_count": 17,
   "metadata": {},
   "outputs": [
    {
     "name": "stdout",
     "output_type": "stream",
     "text": [
      "Square board saved as images/weak_scaling_inputs/2000_2000/squareBoard_v000.jpg\n",
      "Square board saved as images/weak_scaling_inputs/2000_2000/squareBoard_v001.jpg\n",
      "Square board saved as images/weak_scaling_inputs/2000_2000/squareBoard_v002.jpg\n",
      "Square board saved as images/weak_scaling_inputs/2000_2000/squareBoard_v003.jpg\n",
      "Square board saved as images/weak_scaling_inputs/2000_2000/squareBoard_v004.jpg\n",
      "Square board saved as images/weak_scaling_inputs/2000_2000/squareBoard_v005.jpg\n",
      "Square board saved as images/weak_scaling_inputs/2000_2000/squareBoard_v006.jpg\n",
      "Square board saved as images/weak_scaling_inputs/2000_2000/squareBoard_v007.jpg\n",
      "Square board saved as images/weak_scaling_inputs/2000_2000/squareBoard_v008.jpg\n",
      "Square board saved as images/weak_scaling_inputs/2000_2000/squareBoard_v009.jpg\n"
     ]
    }
   ],
   "source": [
    "\n",
    "rows = 10\n",
    "cols = 10\n",
    "width = 2000\n",
    "height = 2000\n",
    "for i in range(10):\n",
    "    name = f\"images/weak_scaling_inputs/{width}_{height}/squareBoard_v{str(i).zfill(3)}.jpg\"\n",
    "    #name = f\"testSquare.jpg\"\n",
    "    generate_square_board(rows, cols, width, height, name)"
   ]
  },
  {
   "cell_type": "code",
   "execution_count": null,
   "metadata": {},
   "outputs": [],
   "source": []
  },
  {
   "cell_type": "code",
   "execution_count": null,
   "metadata": {},
   "outputs": [],
   "source": []
  },
  {
   "cell_type": "code",
   "execution_count": null,
   "metadata": {},
   "outputs": [],
   "source": []
  }
 ],
 "metadata": {
  "kernelspec": {
   "display_name": "Python 3",
   "language": "python",
   "name": "python3"
  },
  "language_info": {
   "codemirror_mode": {
    "name": "ipython",
    "version": 3
   },
   "file_extension": ".py",
   "mimetype": "text/x-python",
   "name": "python",
   "nbconvert_exporter": "python",
   "pygments_lexer": "ipython3",
   "version": "3.10.12"
  }
 },
 "nbformat": 4,
 "nbformat_minor": 2
}
